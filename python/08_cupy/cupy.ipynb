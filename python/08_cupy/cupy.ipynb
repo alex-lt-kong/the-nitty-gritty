{
 "cells": [
  {
   "attachments": {},
   "cell_type": "markdown",
   "metadata": {},
   "source": [
    "# Benchmarking NumPy and CuPy\n",
    "\n",
    "* CuPy is an open source library for GPU-accelerated computing with Python. It shares the same API set as NumPy and SciPy, allowing it to be a drop-in replacement to run NumPy/SciPy code on GPU.\n",
    "* \"Cu\" in CuPy stands for Nvidia's CUDA framework which allows program to perform general-purpose calculations on GPU."
   ]
  },
  {
   "attachments": {},
   "cell_type": "markdown",
   "metadata": {},
   "source": []
  },
  {
   "cell_type": "code",
   "execution_count": 2,
   "metadata": {},
   "outputs": [],
   "source": [
    "import numpy as np\n",
    "import time\n",
    "\n",
    "def generate_matrices(m: int, k: int, n: int):\n",
    "    A = np.random.uniform(-1, 1, size=(m, k)).astype(np.float32)\n",
    "    B = np.random.uniform(-1, 1, size=(k, n)).astype(np.float32)\n",
    "    return (A, B)\n",
    "\n",
    "# Dimensions of matrices\n",
    "m = 37000\n",
    "k = 23000\n",
    "n = 18000\n",
    "\n",
    "# some magic numbers, just to make calculation heavier\n",
    "sqrt2 = 1.414\n",
    "pi = 3.141\n",
    "e = 2.718"
   ]
  },
  {
   "cell_type": "code",
   "execution_count": 3,
   "metadata": {},
   "outputs": [
    {
     "name": "stdout",
     "output_type": "stream",
     "text": [
      "(37000, 23000)\n",
      "(23000, 18000)\n"
     ]
    }
   ],
   "source": [
    "A, B = generate_matrices(m, k, n)\n",
    "print(A.shape)\n",
    "print(B.shape)"
   ]
  },
  {
   "attachments": {},
   "cell_type": "markdown",
   "metadata": {},
   "source": [
    "## NumPy version"
   ]
  },
  {
   "cell_type": "code",
   "execution_count": 4,
   "metadata": {},
   "outputs": [
    {
     "name": "stdout",
     "output_type": "stream",
     "text": [
      "Checking GPU info...\n"
     ]
    },
    {
     "name": "stdout",
     "output_type": "stream",
     "text": [
      "Intel(R) Core(TM) i5-7500 CPU @ 3.40GHz\n"
     ]
    }
   ],
   "source": [
    "import cpuinfo\n",
    "print('Checking GPU info...')\n",
    "cpu_info = cpuinfo.get_cpu_info()\n",
    "print(cpu_info['brand'])"
   ]
  },
  {
   "cell_type": "code",
   "execution_count": 5,
   "metadata": {},
   "outputs": [],
   "source": [
    "np_A = A.copy()\n",
    "np_B = B.copy()\n",
    "\n",
    "t0 = time.time()\n",
    "np_A = np.log(np_A + pi)\n",
    "np_B = (np_B + sqrt2) ** e\n",
    "np_C = np.dot(np_A, np_B)\n",
    "np_C_mean = np.mean(np_C, axis=0)\n",
    "np_C_norm = np_C_mean / np.linalg.norm(np_C_mean)\n",
    "\n",
    "t1 = time.time()\n"
   ]
  },
  {
   "cell_type": "code",
   "execution_count": 6,
   "metadata": {},
   "outputs": [
    {
     "name": "stdout",
     "output_type": "stream",
     "text": [
      "18000\n",
      "[0.00754171 0.00748009 0.00756145 ... 0.0073882  0.00749193 0.0074358 ]\n",
      "78.821sec\n"
     ]
    }
   ],
   "source": [
    "print(len(np_C_norm))\n",
    "print(np_C_norm)\n",
    "print(f'{(t1 - t0):,.03f}sec')"
   ]
  },
  {
   "attachments": {},
   "cell_type": "markdown",
   "metadata": {},
   "source": [
    "## CuPy version"
   ]
  },
  {
   "cell_type": "code",
   "execution_count": 7,
   "metadata": {},
   "outputs": [
    {
     "name": "stdout",
     "output_type": "stream",
     "text": [
      "Checking GPU info...\n",
      "Model:  NVIDIA GeForce RTX 3060\n",
      "Memory: 11.8GB\n"
     ]
    }
   ],
   "source": [
    "import cupy as cp\n",
    "\n",
    "print('Checking GPU info...')\n",
    "if cp.cuda.is_available():\n",
    "    device_id = cp.cuda.runtime.getDevice()\n",
    "    device_properties = cp.cuda.runtime.getDeviceProperties(device_id)\n",
    "    print(f\"Model:  {device_properties['name'].decode()}\")\n",
    "    print(f\"Memory: {device_properties['totalGlobalMem']/(2**30):.1f}GB\")\n",
    "else:\n",
    "    raise RuntimeError('GPU is not available')"
   ]
  },
  {
   "cell_type": "code",
   "execution_count": 8,
   "metadata": {},
   "outputs": [],
   "source": [
    "t0 = time.time()\n",
    "# Move data from main memory to GPU memory\n",
    "cp_A = cp.asarray(A)\n",
    "cp_B = cp.asarray(B)\n",
    "\n",
    "t1 = time.time()\n",
    "# Calculation\n",
    "cp_A = cp.log(cp_A + pi)\n",
    "cp_B = (cp_B + sqrt2) ** e\n",
    "cp_C = cp.dot(cp_A, cp_B) \n",
    "cp_C_mean = np.mean(cp_C, axis=0)\n",
    "cp_C_norm = cp_C_mean / cp.linalg.norm(cp_C_mean)\n",
    "\n",
    "t2 = time.time()\n",
    "# Move data from GPU memory back to CPU memory\n",
    "# Note that the result from GPU has to be stored back to NumPy array,\n",
    "# so the variable is named np_C_norm2 instead of cp_C_norm\n",
    "np_C_norm2 = cp.asnumpy(cp_C_norm)\n",
    "\n",
    "t3 = time.time()"
   ]
  },
  {
   "cell_type": "code",
   "execution_count": 9,
   "metadata": {},
   "outputs": [
    {
     "name": "stdout",
     "output_type": "stream",
     "text": [
      "18000\n",
      "[0.00754169 0.00748009 0.00756147 ... 0.00738818 0.00749193 0.00743583]\n",
      "Send data to GPU:       2.458sec\n",
      "Calculation:            3.517sec\n",
      "Retrieve data from GPU: 0.000sec\n",
      "=====\n",
      "Total:                  5.975sec\n"
     ]
    }
   ],
   "source": [
    "print(len(np_C_norm2))\n",
    "print(np_C_norm2)\n",
    "print(f'Send data to GPU:       {(t1 - t0):,.3f}sec')\n",
    "print(f'Calculation:            {(t2 - t1):,.3f}sec')\n",
    "print(f'Retrieve data from GPU: {(t3 - t2):,.3f}sec')\n",
    "print('=====')\n",
    "print(f'Total:                  {(t3 - t0):,.3f}sec')\n"
   ]
  },
  {
   "attachments": {},
   "cell_type": "markdown",
   "metadata": {},
   "source": [
    "## Results consistency verification"
   ]
  },
  {
   "cell_type": "code",
   "execution_count": 10,
   "metadata": {},
   "outputs": [
    {
     "data": {
      "text/plain": [
       "True"
      ]
     },
     "execution_count": 10,
     "metadata": {},
     "output_type": "execute_result"
    }
   ],
   "source": [
    "tolerance = 1e-7\n",
    "np.allclose(np_C_norm, np_C_norm2, atol=tolerance)"
   ]
  },
  {
   "attachments": {},
   "cell_type": "markdown",
   "metadata": {},
   "source": []
  }
 ],
 "metadata": {
  "kernelspec": {
   "display_name": "Python 3",
   "language": "python",
   "name": "python3"
  },
  "language_info": {
   "codemirror_mode": {
    "name": "ipython",
    "version": 3
   },
   "file_extension": ".py",
   "mimetype": "text/x-python",
   "name": "python",
   "nbconvert_exporter": "python",
   "pygments_lexer": "ipython3",
   "version": "3.10.12"
  },
  "orig_nbformat": 4
 },
 "nbformat": 4,
 "nbformat_minor": 2
}
